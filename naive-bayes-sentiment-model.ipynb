{
 "cells": [
  {
   "cell_type": "code",
   "execution_count": 1,
   "id": "abc87739",
   "metadata": {
    "_cell_guid": "b1076dfc-b9ad-4769-8c92-a6c4dae69d19",
    "_uuid": "8f2839f25d086af736a60e9eeb907d3b93b6e0e5",
    "execution": {
     "iopub.execute_input": "2023-07-30T10:59:20.650703Z",
     "iopub.status.busy": "2023-07-30T10:59:20.650164Z",
     "iopub.status.idle": "2023-07-30T10:59:20.670716Z",
     "shell.execute_reply": "2023-07-30T10:59:20.669675Z"
    },
    "papermill": {
     "duration": 0.030802,
     "end_time": "2023-07-30T10:59:20.672760",
     "exception": false,
     "start_time": "2023-07-30T10:59:20.641958",
     "status": "completed"
    },
    "tags": []
   },
   "outputs": [
    {
     "name": "stdout",
     "output_type": "stream",
     "text": [
      "/kaggle/input/imdb-dataset-of-50k-movie-reviews/IMDB Dataset.csv\n"
     ]
    }
   ],
   "source": [
    "# This Python 3 environment comes with many helpful analytics libraries installed\n",
    "# It is defined by the kaggle/python Docker image: https://github.com/kaggle/docker-python\n",
    "# For example, here's several helpful packages to load\n",
    "\n",
    "import numpy as np # linear algebra\n",
    "import pandas as pd # data processing, CSV file I/O (e.g. pd.read_csv)\n",
    "\n",
    "# Input data files are available in the read-only \"../input/\" directory\n",
    "# For example, running this (by clicking run or pressing Shift+Enter) will list all files under the input directory\n",
    "\n",
    "import os\n",
    "for dirname, _, filenames in os.walk('/kaggle/input'):\n",
    "    for filename in filenames:\n",
    "        print(os.path.join(dirname, filename))\n",
    "\n",
    "        \n",
    "# You can write up to 20GB to the current directory (/kaggle/working/) that gets preserved as output when you create a version using \"Save & Run All\" \n",
    "# You can also write temporary files to /kaggle/temp/, but they won't be saved outside of the current session"
   ]
  },
  {
   "cell_type": "code",
   "execution_count": 2,
   "id": "81824b6f",
   "metadata": {
    "execution": {
     "iopub.execute_input": "2023-07-30T10:59:20.686609Z",
     "iopub.status.busy": "2023-07-30T10:59:20.685609Z",
     "iopub.status.idle": "2023-07-30T10:59:22.161770Z",
     "shell.execute_reply": "2023-07-30T10:59:22.160674Z"
    },
    "papermill": {
     "duration": 1.485336,
     "end_time": "2023-07-30T10:59:22.164178",
     "exception": false,
     "start_time": "2023-07-30T10:59:20.678842",
     "status": "completed"
    },
    "tags": []
   },
   "outputs": [
    {
     "data": {
      "text/html": [
       "<div>\n",
       "<style scoped>\n",
       "    .dataframe tbody tr th:only-of-type {\n",
       "        vertical-align: middle;\n",
       "    }\n",
       "\n",
       "    .dataframe tbody tr th {\n",
       "        vertical-align: top;\n",
       "    }\n",
       "\n",
       "    .dataframe thead th {\n",
       "        text-align: right;\n",
       "    }\n",
       "</style>\n",
       "<table border=\"1\" class=\"dataframe\">\n",
       "  <thead>\n",
       "    <tr style=\"text-align: right;\">\n",
       "      <th></th>\n",
       "      <th>review</th>\n",
       "      <th>sentiment</th>\n",
       "    </tr>\n",
       "  </thead>\n",
       "  <tbody>\n",
       "    <tr>\n",
       "      <th>0</th>\n",
       "      <td>One of the other reviewers has mentioned that ...</td>\n",
       "      <td>positive</td>\n",
       "    </tr>\n",
       "    <tr>\n",
       "      <th>1</th>\n",
       "      <td>A wonderful little production. &lt;br /&gt;&lt;br /&gt;The...</td>\n",
       "      <td>positive</td>\n",
       "    </tr>\n",
       "    <tr>\n",
       "      <th>2</th>\n",
       "      <td>I thought this was a wonderful way to spend ti...</td>\n",
       "      <td>positive</td>\n",
       "    </tr>\n",
       "    <tr>\n",
       "      <th>3</th>\n",
       "      <td>Basically there's a family where a little boy ...</td>\n",
       "      <td>negative</td>\n",
       "    </tr>\n",
       "    <tr>\n",
       "      <th>4</th>\n",
       "      <td>Petter Mattei's \"Love in the Time of Money\" is...</td>\n",
       "      <td>positive</td>\n",
       "    </tr>\n",
       "  </tbody>\n",
       "</table>\n",
       "</div>"
      ],
      "text/plain": [
       "                                              review sentiment\n",
       "0  One of the other reviewers has mentioned that ...  positive\n",
       "1  A wonderful little production. <br /><br />The...  positive\n",
       "2  I thought this was a wonderful way to spend ti...  positive\n",
       "3  Basically there's a family where a little boy ...  negative\n",
       "4  Petter Mattei's \"Love in the Time of Money\" is...  positive"
      ]
     },
     "execution_count": 2,
     "metadata": {},
     "output_type": "execute_result"
    }
   ],
   "source": [
    "import numpy as np\n",
    "import pandas as pd\n",
    "df = pd.read_csv(\"/kaggle/input/imdb-dataset-of-50k-movie-reviews/IMDB Dataset.csv\")\n",
    "df.head()"
   ]
  },
  {
   "cell_type": "code",
   "execution_count": 3,
   "id": "65c2964f",
   "metadata": {
    "execution": {
     "iopub.execute_input": "2023-07-30T10:59:22.178248Z",
     "iopub.status.busy": "2023-07-30T10:59:22.177835Z",
     "iopub.status.idle": "2023-07-30T10:59:22.230468Z",
     "shell.execute_reply": "2023-07-30T10:59:22.229503Z"
    },
    "papermill": {
     "duration": 0.06261,
     "end_time": "2023-07-30T10:59:22.233044",
     "exception": false,
     "start_time": "2023-07-30T10:59:22.170434",
     "status": "completed"
    },
    "tags": []
   },
   "outputs": [
    {
     "data": {
      "text/html": [
       "<div>\n",
       "<style scoped>\n",
       "    .dataframe tbody tr th:only-of-type {\n",
       "        vertical-align: middle;\n",
       "    }\n",
       "\n",
       "    .dataframe tbody tr th {\n",
       "        vertical-align: top;\n",
       "    }\n",
       "\n",
       "    .dataframe thead th {\n",
       "        text-align: right;\n",
       "    }\n",
       "</style>\n",
       "<table border=\"1\" class=\"dataframe\">\n",
       "  <thead>\n",
       "    <tr style=\"text-align: right;\">\n",
       "      <th></th>\n",
       "      <th>review</th>\n",
       "      <th>sentiment</th>\n",
       "      <th>sents</th>\n",
       "    </tr>\n",
       "  </thead>\n",
       "  <tbody>\n",
       "    <tr>\n",
       "      <th>0</th>\n",
       "      <td>One of the other reviewers has mentioned that ...</td>\n",
       "      <td>positive</td>\n",
       "      <td>1</td>\n",
       "    </tr>\n",
       "    <tr>\n",
       "      <th>1</th>\n",
       "      <td>A wonderful little production. &lt;br /&gt;&lt;br /&gt;The...</td>\n",
       "      <td>positive</td>\n",
       "      <td>1</td>\n",
       "    </tr>\n",
       "    <tr>\n",
       "      <th>2</th>\n",
       "      <td>I thought this was a wonderful way to spend ti...</td>\n",
       "      <td>positive</td>\n",
       "      <td>1</td>\n",
       "    </tr>\n",
       "    <tr>\n",
       "      <th>3</th>\n",
       "      <td>Basically there's a family where a little boy ...</td>\n",
       "      <td>negative</td>\n",
       "      <td>0</td>\n",
       "    </tr>\n",
       "    <tr>\n",
       "      <th>4</th>\n",
       "      <td>Petter Mattei's \"Love in the Time of Money\" is...</td>\n",
       "      <td>positive</td>\n",
       "      <td>1</td>\n",
       "    </tr>\n",
       "  </tbody>\n",
       "</table>\n",
       "</div>"
      ],
      "text/plain": [
       "                                              review sentiment  sents\n",
       "0  One of the other reviewers has mentioned that ...  positive      1\n",
       "1  A wonderful little production. <br /><br />The...  positive      1\n",
       "2  I thought this was a wonderful way to spend ti...  positive      1\n",
       "3  Basically there's a family where a little boy ...  negative      0\n",
       "4  Petter Mattei's \"Love in the Time of Money\" is...  positive      1"
      ]
     },
     "execution_count": 3,
     "metadata": {},
     "output_type": "execute_result"
    }
   ],
   "source": [
    "df['sents'] = df['sentiment'].apply(lambda x:1 if x==\"positive\" else 0)\n",
    "df.head()"
   ]
  },
  {
   "cell_type": "code",
   "execution_count": 4,
   "id": "919f8e34",
   "metadata": {
    "execution": {
     "iopub.execute_input": "2023-07-30T10:59:22.248185Z",
     "iopub.status.busy": "2023-07-30T10:59:22.247816Z",
     "iopub.status.idle": "2023-07-30T10:59:23.433045Z",
     "shell.execute_reply": "2023-07-30T10:59:23.431512Z"
    },
    "papermill": {
     "duration": 1.196102,
     "end_time": "2023-07-30T10:59:23.435875",
     "exception": false,
     "start_time": "2023-07-30T10:59:22.239773",
     "status": "completed"
    },
    "tags": []
   },
   "outputs": [
    {
     "name": "stderr",
     "output_type": "stream",
     "text": [
      "/opt/conda/lib/python3.10/site-packages/scipy/__init__.py:146: UserWarning: A NumPy version >=1.16.5 and <1.23.0 is required for this version of SciPy (detected version 1.23.5\n",
      "  warnings.warn(f\"A NumPy version >={np_minversion} and <{np_maxversion}\"\n"
     ]
    }
   ],
   "source": [
    "from sklearn.model_selection import train_test_split\n",
    "x_train, x_test, y_train, y_test = train_test_split(df.review,df.sents,test_size = 0.2)"
   ]
  },
  {
   "cell_type": "code",
   "execution_count": 5,
   "id": "cd534e5e",
   "metadata": {
    "execution": {
     "iopub.execute_input": "2023-07-30T10:59:23.451217Z",
     "iopub.status.busy": "2023-07-30T10:59:23.450823Z",
     "iopub.status.idle": "2023-07-30T10:59:44.458997Z",
     "shell.execute_reply": "2023-07-30T10:59:44.457917Z"
    },
    "papermill": {
     "duration": 21.018752,
     "end_time": "2023-07-30T10:59:44.461598",
     "exception": false,
     "start_time": "2023-07-30T10:59:23.442846",
     "status": "completed"
    },
    "tags": []
   },
   "outputs": [
    {
     "data": {
      "text/plain": [
       "(40000, 92773)"
      ]
     },
     "execution_count": 5,
     "metadata": {},
     "output_type": "execute_result"
    }
   ],
   "source": [
    "from sklearn.feature_extraction.text import CountVectorizer\n",
    "v = CountVectorizer()\n",
    "x_train_cv = v.fit_transform(x_train.values)\n",
    "x_train_np = x_train_cv.toarray()\n",
    "x_train_np.shape"
   ]
  },
  {
   "cell_type": "code",
   "execution_count": 6,
   "id": "410a5f67",
   "metadata": {
    "execution": {
     "iopub.execute_input": "2023-07-30T10:59:44.476858Z",
     "iopub.status.busy": "2023-07-30T10:59:44.476458Z",
     "iopub.status.idle": "2023-07-30T10:59:44.576692Z",
     "shell.execute_reply": "2023-07-30T10:59:44.575363Z"
    },
    "papermill": {
     "duration": 0.111009,
     "end_time": "2023-07-30T10:59:44.579464",
     "exception": false,
     "start_time": "2023-07-30T10:59:44.468455",
     "status": "completed"
    },
    "tags": []
   },
   "outputs": [
    {
     "data": {
      "text/plain": [
       "'activities'"
      ]
     },
     "execution_count": 6,
     "metadata": {},
     "output_type": "execute_result"
    }
   ],
   "source": [
    "v.get_feature_names_out()[2106]"
   ]
  },
  {
   "cell_type": "code",
   "execution_count": 7,
   "id": "bbc360b0",
   "metadata": {
    "execution": {
     "iopub.execute_input": "2023-07-30T10:59:44.595132Z",
     "iopub.status.busy": "2023-07-30T10:59:44.594721Z",
     "iopub.status.idle": "2023-07-30T10:59:44.603667Z",
     "shell.execute_reply": "2023-07-30T10:59:44.602683Z"
    },
    "papermill": {
     "duration": 0.019533,
     "end_time": "2023-07-30T10:59:44.606022",
     "exception": false,
     "start_time": "2023-07-30T10:59:44.586489",
     "status": "completed"
    },
    "tags": []
   },
   "outputs": [
    {
     "data": {
      "text/plain": [
       "(array([ 1738,  1813,  2691,  3338,  4084,  4191,  5541,  7916,  8046,\n",
       "         8324,  8803, 12358, 14519, 15514, 18714, 23987, 24153, 24619,\n",
       "        28019, 29149, 30246, 30324, 31369, 31680, 32518, 33692, 34543,\n",
       "        34681, 37075, 39393, 39806, 39892, 40101, 41914, 41993, 42594,\n",
       "        42716, 44609, 47190, 47673, 51844, 54371, 54575, 54756, 55393,\n",
       "        56561, 56885, 57215, 57242, 57258, 57981, 58462, 58589, 63549,\n",
       "        65804, 66668, 67918, 70728, 72959, 73384, 75543, 75985, 76279,\n",
       "        76301, 78754, 79844, 82090, 82111, 82183, 82261, 82343, 82384,\n",
       "        82826, 83077, 84950, 86210, 86383, 87779, 89374, 89412, 89576,\n",
       "        89814, 90016, 90839, 92046, 92073]),)"
      ]
     },
     "execution_count": 7,
     "metadata": {},
     "output_type": "execute_result"
    }
   ],
   "source": [
    "np.where(x_train_np[0]!=0)"
   ]
  },
  {
   "cell_type": "code",
   "execution_count": 8,
   "id": "a0008363",
   "metadata": {
    "execution": {
     "iopub.execute_input": "2023-07-30T10:59:44.622391Z",
     "iopub.status.busy": "2023-07-30T10:59:44.621790Z",
     "iopub.status.idle": "2023-07-30T10:59:44.628438Z",
     "shell.execute_reply": "2023-07-30T10:59:44.627416Z"
    },
    "papermill": {
     "duration": 0.017079,
     "end_time": "2023-07-30T10:59:44.630531",
     "exception": false,
     "start_time": "2023-07-30T10:59:44.613452",
     "status": "completed"
    },
    "tags": []
   },
   "outputs": [
    {
     "data": {
      "text/plain": [
       "0"
      ]
     },
     "execution_count": 8,
     "metadata": {},
     "output_type": "execute_result"
    }
   ],
   "source": [
    "x_train_np[0][1649]"
   ]
  },
  {
   "cell_type": "code",
   "execution_count": 9,
   "id": "31e7d017",
   "metadata": {
    "execution": {
     "iopub.execute_input": "2023-07-30T10:59:44.646478Z",
     "iopub.status.busy": "2023-07-30T10:59:44.645877Z",
     "iopub.status.idle": "2023-07-30T10:59:44.654040Z",
     "shell.execute_reply": "2023-07-30T10:59:44.653311Z"
    },
    "papermill": {
     "duration": 0.018279,
     "end_time": "2023-07-30T10:59:44.656027",
     "exception": false,
     "start_time": "2023-07-30T10:59:44.637748",
     "status": "completed"
    },
    "tags": []
   },
   "outputs": [
    {
     "data": {
      "text/plain": [
       "\"This story about a man's 28 year struggle for a death that would liberate him from his already dead body becomes a masterpiece to be remembered,thanks to a team of artists in a state of grace. Directed, written,edited and scored by Alejandro Amenabar, it touches you from the very first images, and doesn't leave your eyes and your heart to rest until the last credits, thanks to Alejandro and a group of wonderful actors and actresses at their best. Bardem is an acting animal:One of those few comedians that can make a masterpiece from almost any character, the supporting actresses are great in their roles and the story is told with such a sensibility that one laughs and cries in the same minute, as we used to do with the great old masterpieces. The year's best film in all senses. 10 / 10\""
      ]
     },
     "execution_count": 9,
     "metadata": {},
     "output_type": "execute_result"
    }
   ],
   "source": [
    "x_train[20893]"
   ]
  },
  {
   "cell_type": "code",
   "execution_count": 10,
   "id": "4c7b0b3c",
   "metadata": {
    "execution": {
     "iopub.execute_input": "2023-07-30T10:59:44.674210Z",
     "iopub.status.busy": "2023-07-30T10:59:44.673844Z",
     "iopub.status.idle": "2023-07-30T10:59:44.746196Z",
     "shell.execute_reply": "2023-07-30T10:59:44.745429Z"
    },
    "papermill": {
     "duration": 0.083366,
     "end_time": "2023-07-30T10:59:44.748465",
     "exception": false,
     "start_time": "2023-07-30T10:59:44.665099",
     "status": "completed"
    },
    "tags": []
   },
   "outputs": [
    {
     "data": {
      "text/html": [
       "<style>#sk-container-id-1 {color: black;background-color: white;}#sk-container-id-1 pre{padding: 0;}#sk-container-id-1 div.sk-toggleable {background-color: white;}#sk-container-id-1 label.sk-toggleable__label {cursor: pointer;display: block;width: 100%;margin-bottom: 0;padding: 0.3em;box-sizing: border-box;text-align: center;}#sk-container-id-1 label.sk-toggleable__label-arrow:before {content: \"▸\";float: left;margin-right: 0.25em;color: #696969;}#sk-container-id-1 label.sk-toggleable__label-arrow:hover:before {color: black;}#sk-container-id-1 div.sk-estimator:hover label.sk-toggleable__label-arrow:before {color: black;}#sk-container-id-1 div.sk-toggleable__content {max-height: 0;max-width: 0;overflow: hidden;text-align: left;background-color: #f0f8ff;}#sk-container-id-1 div.sk-toggleable__content pre {margin: 0.2em;color: black;border-radius: 0.25em;background-color: #f0f8ff;}#sk-container-id-1 input.sk-toggleable__control:checked~div.sk-toggleable__content {max-height: 200px;max-width: 100%;overflow: auto;}#sk-container-id-1 input.sk-toggleable__control:checked~label.sk-toggleable__label-arrow:before {content: \"▾\";}#sk-container-id-1 div.sk-estimator input.sk-toggleable__control:checked~label.sk-toggleable__label {background-color: #d4ebff;}#sk-container-id-1 div.sk-label input.sk-toggleable__control:checked~label.sk-toggleable__label {background-color: #d4ebff;}#sk-container-id-1 input.sk-hidden--visually {border: 0;clip: rect(1px 1px 1px 1px);clip: rect(1px, 1px, 1px, 1px);height: 1px;margin: -1px;overflow: hidden;padding: 0;position: absolute;width: 1px;}#sk-container-id-1 div.sk-estimator {font-family: monospace;background-color: #f0f8ff;border: 1px dotted black;border-radius: 0.25em;box-sizing: border-box;margin-bottom: 0.5em;}#sk-container-id-1 div.sk-estimator:hover {background-color: #d4ebff;}#sk-container-id-1 div.sk-parallel-item::after {content: \"\";width: 100%;border-bottom: 1px solid gray;flex-grow: 1;}#sk-container-id-1 div.sk-label:hover label.sk-toggleable__label {background-color: #d4ebff;}#sk-container-id-1 div.sk-serial::before {content: \"\";position: absolute;border-left: 1px solid gray;box-sizing: border-box;top: 0;bottom: 0;left: 50%;z-index: 0;}#sk-container-id-1 div.sk-serial {display: flex;flex-direction: column;align-items: center;background-color: white;padding-right: 0.2em;padding-left: 0.2em;position: relative;}#sk-container-id-1 div.sk-item {position: relative;z-index: 1;}#sk-container-id-1 div.sk-parallel {display: flex;align-items: stretch;justify-content: center;background-color: white;position: relative;}#sk-container-id-1 div.sk-item::before, #sk-container-id-1 div.sk-parallel-item::before {content: \"\";position: absolute;border-left: 1px solid gray;box-sizing: border-box;top: 0;bottom: 0;left: 50%;z-index: -1;}#sk-container-id-1 div.sk-parallel-item {display: flex;flex-direction: column;z-index: 1;position: relative;background-color: white;}#sk-container-id-1 div.sk-parallel-item:first-child::after {align-self: flex-end;width: 50%;}#sk-container-id-1 div.sk-parallel-item:last-child::after {align-self: flex-start;width: 50%;}#sk-container-id-1 div.sk-parallel-item:only-child::after {width: 0;}#sk-container-id-1 div.sk-dashed-wrapped {border: 1px dashed gray;margin: 0 0.4em 0.5em 0.4em;box-sizing: border-box;padding-bottom: 0.4em;background-color: white;}#sk-container-id-1 div.sk-label label {font-family: monospace;font-weight: bold;display: inline-block;line-height: 1.2em;}#sk-container-id-1 div.sk-label-container {text-align: center;}#sk-container-id-1 div.sk-container {/* jupyter's `normalize.less` sets `[hidden] { display: none; }` but bootstrap.min.css set `[hidden] { display: none !important; }` so we also need the `!important` here to be able to override the default hidden behavior on the sphinx rendered scikit-learn.org. See: https://github.com/scikit-learn/scikit-learn/issues/21755 */display: inline-block !important;position: relative;}#sk-container-id-1 div.sk-text-repr-fallback {display: none;}</style><div id=\"sk-container-id-1\" class=\"sk-top-container\"><div class=\"sk-text-repr-fallback\"><pre>MultinomialNB()</pre><b>In a Jupyter environment, please rerun this cell to show the HTML representation or trust the notebook. <br />On GitHub, the HTML representation is unable to render, please try loading this page with nbviewer.org.</b></div><div class=\"sk-container\" hidden><div class=\"sk-item\"><div class=\"sk-estimator sk-toggleable\"><input class=\"sk-toggleable__control sk-hidden--visually\" id=\"sk-estimator-id-1\" type=\"checkbox\" checked><label for=\"sk-estimator-id-1\" class=\"sk-toggleable__label sk-toggleable__label-arrow\">MultinomialNB</label><div class=\"sk-toggleable__content\"><pre>MultinomialNB()</pre></div></div></div></div></div>"
      ],
      "text/plain": [
       "MultinomialNB()"
      ]
     },
     "execution_count": 10,
     "metadata": {},
     "output_type": "execute_result"
    }
   ],
   "source": [
    "from sklearn.naive_bayes import MultinomialNB\n",
    "model = MultinomialNB()\n",
    "model.fit(x_train_cv, y_train)\n"
   ]
  },
  {
   "cell_type": "code",
   "execution_count": 11,
   "id": "5e1cd273",
   "metadata": {
    "execution": {
     "iopub.execute_input": "2023-07-30T10:59:44.765860Z",
     "iopub.status.busy": "2023-07-30T10:59:44.765516Z",
     "iopub.status.idle": "2023-07-30T10:59:47.491951Z",
     "shell.execute_reply": "2023-07-30T10:59:47.490524Z"
    },
    "papermill": {
     "duration": 2.738353,
     "end_time": "2023-07-30T10:59:47.494682",
     "exception": false,
     "start_time": "2023-07-30T10:59:44.756329",
     "status": "completed"
    },
    "tags": []
   },
   "outputs": [],
   "source": [
    "x_test_cv = v.transform(x_test)"
   ]
  },
  {
   "cell_type": "code",
   "execution_count": 12,
   "id": "a83ab2df",
   "metadata": {
    "execution": {
     "iopub.execute_input": "2023-07-30T10:59:47.512161Z",
     "iopub.status.busy": "2023-07-30T10:59:47.511701Z",
     "iopub.status.idle": "2023-07-30T10:59:47.557327Z",
     "shell.execute_reply": "2023-07-30T10:59:47.555978Z"
    },
    "papermill": {
     "duration": 0.057293,
     "end_time": "2023-07-30T10:59:47.559883",
     "exception": false,
     "start_time": "2023-07-30T10:59:47.502590",
     "status": "completed"
    },
    "tags": []
   },
   "outputs": [
    {
     "name": "stdout",
     "output_type": "stream",
     "text": [
      "              precision    recall  f1-score   support\n",
      "\n",
      "           0       0.83      0.88      0.86      4972\n",
      "           1       0.88      0.83      0.85      5028\n",
      "\n",
      "    accuracy                           0.85     10000\n",
      "   macro avg       0.86      0.85      0.85     10000\n",
      "weighted avg       0.86      0.85      0.85     10000\n",
      "\n"
     ]
    }
   ],
   "source": [
    "from sklearn.metrics import classification_report\n",
    "y_pred = model.predict(x_test_cv)\n",
    "print(classification_report(y_test, y_pred))"
   ]
  },
  {
   "cell_type": "code",
   "execution_count": 13,
   "id": "533c5f24",
   "metadata": {
    "execution": {
     "iopub.execute_input": "2023-07-30T10:59:47.576971Z",
     "iopub.status.busy": "2023-07-30T10:59:47.576601Z",
     "iopub.status.idle": "2023-07-30T10:59:47.584187Z",
     "shell.execute_reply": "2023-07-30T10:59:47.583006Z"
    },
    "papermill": {
     "duration": 0.018929,
     "end_time": "2023-07-30T10:59:47.586663",
     "exception": false,
     "start_time": "2023-07-30T10:59:47.567734",
     "status": "completed"
    },
    "tags": []
   },
   "outputs": [
    {
     "name": "stdout",
     "output_type": "stream",
     "text": [
      "[1 0]\n"
     ]
    }
   ],
   "source": [
    "review = ['Political movie. There are a lot of views from the science community. There is a heavy lack of technicalities from topics introduced. Might be a biased opinion about oppenheimer\\'s life. Overall, it raised a lot of questions so it pushed me to explore more.','Before interval, I thought there might be a big reveal but the story arc was common and generalized views were presented in the end. Very simplified didn\\'t feel like it was for a mature person.']\n",
    "r_cv = v.transform(review)\n",
    "y_pred = model.predict(r_cv)\n",
    "print(y_pred)"
   ]
  },
  {
   "cell_type": "code",
   "execution_count": 14,
   "id": "4346e6d4",
   "metadata": {
    "execution": {
     "iopub.execute_input": "2023-07-30T10:59:47.603715Z",
     "iopub.status.busy": "2023-07-30T10:59:47.603377Z",
     "iopub.status.idle": "2023-07-30T10:59:59.267988Z",
     "shell.execute_reply": "2023-07-30T10:59:59.266878Z"
    },
    "papermill": {
     "duration": 11.676104,
     "end_time": "2023-07-30T10:59:59.270546",
     "exception": false,
     "start_time": "2023-07-30T10:59:47.594442",
     "status": "completed"
    },
    "tags": []
   },
   "outputs": [
    {
     "data": {
      "text/html": [
       "<style>#sk-container-id-2 {color: black;background-color: white;}#sk-container-id-2 pre{padding: 0;}#sk-container-id-2 div.sk-toggleable {background-color: white;}#sk-container-id-2 label.sk-toggleable__label {cursor: pointer;display: block;width: 100%;margin-bottom: 0;padding: 0.3em;box-sizing: border-box;text-align: center;}#sk-container-id-2 label.sk-toggleable__label-arrow:before {content: \"▸\";float: left;margin-right: 0.25em;color: #696969;}#sk-container-id-2 label.sk-toggleable__label-arrow:hover:before {color: black;}#sk-container-id-2 div.sk-estimator:hover label.sk-toggleable__label-arrow:before {color: black;}#sk-container-id-2 div.sk-toggleable__content {max-height: 0;max-width: 0;overflow: hidden;text-align: left;background-color: #f0f8ff;}#sk-container-id-2 div.sk-toggleable__content pre {margin: 0.2em;color: black;border-radius: 0.25em;background-color: #f0f8ff;}#sk-container-id-2 input.sk-toggleable__control:checked~div.sk-toggleable__content {max-height: 200px;max-width: 100%;overflow: auto;}#sk-container-id-2 input.sk-toggleable__control:checked~label.sk-toggleable__label-arrow:before {content: \"▾\";}#sk-container-id-2 div.sk-estimator input.sk-toggleable__control:checked~label.sk-toggleable__label {background-color: #d4ebff;}#sk-container-id-2 div.sk-label input.sk-toggleable__control:checked~label.sk-toggleable__label {background-color: #d4ebff;}#sk-container-id-2 input.sk-hidden--visually {border: 0;clip: rect(1px 1px 1px 1px);clip: rect(1px, 1px, 1px, 1px);height: 1px;margin: -1px;overflow: hidden;padding: 0;position: absolute;width: 1px;}#sk-container-id-2 div.sk-estimator {font-family: monospace;background-color: #f0f8ff;border: 1px dotted black;border-radius: 0.25em;box-sizing: border-box;margin-bottom: 0.5em;}#sk-container-id-2 div.sk-estimator:hover {background-color: #d4ebff;}#sk-container-id-2 div.sk-parallel-item::after {content: \"\";width: 100%;border-bottom: 1px solid gray;flex-grow: 1;}#sk-container-id-2 div.sk-label:hover label.sk-toggleable__label {background-color: #d4ebff;}#sk-container-id-2 div.sk-serial::before {content: \"\";position: absolute;border-left: 1px solid gray;box-sizing: border-box;top: 0;bottom: 0;left: 50%;z-index: 0;}#sk-container-id-2 div.sk-serial {display: flex;flex-direction: column;align-items: center;background-color: white;padding-right: 0.2em;padding-left: 0.2em;position: relative;}#sk-container-id-2 div.sk-item {position: relative;z-index: 1;}#sk-container-id-2 div.sk-parallel {display: flex;align-items: stretch;justify-content: center;background-color: white;position: relative;}#sk-container-id-2 div.sk-item::before, #sk-container-id-2 div.sk-parallel-item::before {content: \"\";position: absolute;border-left: 1px solid gray;box-sizing: border-box;top: 0;bottom: 0;left: 50%;z-index: -1;}#sk-container-id-2 div.sk-parallel-item {display: flex;flex-direction: column;z-index: 1;position: relative;background-color: white;}#sk-container-id-2 div.sk-parallel-item:first-child::after {align-self: flex-end;width: 50%;}#sk-container-id-2 div.sk-parallel-item:last-child::after {align-self: flex-start;width: 50%;}#sk-container-id-2 div.sk-parallel-item:only-child::after {width: 0;}#sk-container-id-2 div.sk-dashed-wrapped {border: 1px dashed gray;margin: 0 0.4em 0.5em 0.4em;box-sizing: border-box;padding-bottom: 0.4em;background-color: white;}#sk-container-id-2 div.sk-label label {font-family: monospace;font-weight: bold;display: inline-block;line-height: 1.2em;}#sk-container-id-2 div.sk-label-container {text-align: center;}#sk-container-id-2 div.sk-container {/* jupyter's `normalize.less` sets `[hidden] { display: none; }` but bootstrap.min.css set `[hidden] { display: none !important; }` so we also need the `!important` here to be able to override the default hidden behavior on the sphinx rendered scikit-learn.org. See: https://github.com/scikit-learn/scikit-learn/issues/21755 */display: inline-block !important;position: relative;}#sk-container-id-2 div.sk-text-repr-fallback {display: none;}</style><div id=\"sk-container-id-2\" class=\"sk-top-container\"><div class=\"sk-text-repr-fallback\"><pre>Pipeline(steps=[(&#x27;vectorizer&#x27;, CountVectorizer()), (&#x27;nb&#x27;, MultinomialNB())])</pre><b>In a Jupyter environment, please rerun this cell to show the HTML representation or trust the notebook. <br />On GitHub, the HTML representation is unable to render, please try loading this page with nbviewer.org.</b></div><div class=\"sk-container\" hidden><div class=\"sk-item sk-dashed-wrapped\"><div class=\"sk-label-container\"><div class=\"sk-label sk-toggleable\"><input class=\"sk-toggleable__control sk-hidden--visually\" id=\"sk-estimator-id-2\" type=\"checkbox\" ><label for=\"sk-estimator-id-2\" class=\"sk-toggleable__label sk-toggleable__label-arrow\">Pipeline</label><div class=\"sk-toggleable__content\"><pre>Pipeline(steps=[(&#x27;vectorizer&#x27;, CountVectorizer()), (&#x27;nb&#x27;, MultinomialNB())])</pre></div></div></div><div class=\"sk-serial\"><div class=\"sk-item\"><div class=\"sk-estimator sk-toggleable\"><input class=\"sk-toggleable__control sk-hidden--visually\" id=\"sk-estimator-id-3\" type=\"checkbox\" ><label for=\"sk-estimator-id-3\" class=\"sk-toggleable__label sk-toggleable__label-arrow\">CountVectorizer</label><div class=\"sk-toggleable__content\"><pre>CountVectorizer()</pre></div></div></div><div class=\"sk-item\"><div class=\"sk-estimator sk-toggleable\"><input class=\"sk-toggleable__control sk-hidden--visually\" id=\"sk-estimator-id-4\" type=\"checkbox\" ><label for=\"sk-estimator-id-4\" class=\"sk-toggleable__label sk-toggleable__label-arrow\">MultinomialNB</label><div class=\"sk-toggleable__content\"><pre>MultinomialNB()</pre></div></div></div></div></div></div></div>"
      ],
      "text/plain": [
       "Pipeline(steps=[('vectorizer', CountVectorizer()), ('nb', MultinomialNB())])"
      ]
     },
     "execution_count": 14,
     "metadata": {},
     "output_type": "execute_result"
    }
   ],
   "source": [
    "from sklearn.pipeline import Pipeline\n",
    "clf = Pipeline([('vectorizer', CountVectorizer()),('nb', MultinomialNB())])\n",
    "clf.fit(x_train, y_train)"
   ]
  },
  {
   "cell_type": "code",
   "execution_count": 15,
   "id": "ea802c95",
   "metadata": {
    "execution": {
     "iopub.execute_input": "2023-07-30T10:59:59.288834Z",
     "iopub.status.busy": "2023-07-30T10:59:59.288448Z",
     "iopub.status.idle": "2023-07-30T11:00:02.199697Z",
     "shell.execute_reply": "2023-07-30T11:00:02.198435Z"
    },
    "papermill": {
     "duration": 2.923632,
     "end_time": "2023-07-30T11:00:02.202571",
     "exception": false,
     "start_time": "2023-07-30T10:59:59.278939",
     "status": "completed"
    },
    "tags": []
   },
   "outputs": [
    {
     "name": "stdout",
     "output_type": "stream",
     "text": [
      "              precision    recall  f1-score   support\n",
      "\n",
      "           0       0.83      0.88      0.86      4972\n",
      "           1       0.88      0.83      0.85      5028\n",
      "\n",
      "    accuracy                           0.85     10000\n",
      "   macro avg       0.86      0.85      0.85     10000\n",
      "weighted avg       0.86      0.85      0.85     10000\n",
      "\n"
     ]
    }
   ],
   "source": [
    "print(classification_report(y_test, clf.predict(x_test)))"
   ]
  },
  {
   "cell_type": "code",
   "execution_count": 16,
   "id": "f34e6ad6",
   "metadata": {
    "execution": {
     "iopub.execute_input": "2023-07-30T11:00:02.221414Z",
     "iopub.status.busy": "2023-07-30T11:00:02.220995Z",
     "iopub.status.idle": "2023-07-30T11:00:02.228857Z",
     "shell.execute_reply": "2023-07-30T11:00:02.227965Z"
    },
    "papermill": {
     "duration": 0.020214,
     "end_time": "2023-07-30T11:00:02.230961",
     "exception": false,
     "start_time": "2023-07-30T11:00:02.210747",
     "status": "completed"
    },
    "tags": []
   },
   "outputs": [
    {
     "data": {
      "text/plain": [
       "array([1, 0])"
      ]
     },
     "execution_count": 16,
     "metadata": {},
     "output_type": "execute_result"
    }
   ],
   "source": [
    "clf.predict(review)"
   ]
  },
  {
   "cell_type": "code",
   "execution_count": null,
   "id": "f2df4960",
   "metadata": {
    "papermill": {
     "duration": 0.008186,
     "end_time": "2023-07-30T11:00:02.247668",
     "exception": false,
     "start_time": "2023-07-30T11:00:02.239482",
     "status": "completed"
    },
    "tags": []
   },
   "outputs": [],
   "source": []
  }
 ],
 "metadata": {
  "kernelspec": {
   "display_name": "Python 3",
   "language": "python",
   "name": "python3"
  },
  "language_info": {
   "codemirror_mode": {
    "name": "ipython",
    "version": 3
   },
   "file_extension": ".py",
   "mimetype": "text/x-python",
   "name": "python",
   "nbconvert_exporter": "python",
   "pygments_lexer": "ipython3",
   "version": "3.10.12"
  },
  "papermill": {
   "default_parameters": {},
   "duration": 54.073596,
   "end_time": "2023-07-30T11:00:04.181032",
   "environment_variables": {},
   "exception": null,
   "input_path": "__notebook__.ipynb",
   "output_path": "__notebook__.ipynb",
   "parameters": {},
   "start_time": "2023-07-30T10:59:10.107436",
   "version": "2.4.0"
  }
 },
 "nbformat": 4,
 "nbformat_minor": 5
}
