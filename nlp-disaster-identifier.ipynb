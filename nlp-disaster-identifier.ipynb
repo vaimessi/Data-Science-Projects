{
 "cells": [
  {
   "cell_type": "code",
   "execution_count": 1,
   "id": "f3ded8b2",
   "metadata": {
    "_cell_guid": "b1076dfc-b9ad-4769-8c92-a6c4dae69d19",
    "_uuid": "8f2839f25d086af736a60e9eeb907d3b93b6e0e5",
    "execution": {
     "iopub.execute_input": "2023-07-31T07:02:09.229648Z",
     "iopub.status.busy": "2023-07-31T07:02:09.228132Z",
     "iopub.status.idle": "2023-07-31T07:02:09.243402Z",
     "shell.execute_reply": "2023-07-31T07:02:09.241761Z"
    },
    "papermill": {
     "duration": 0.02312,
     "end_time": "2023-07-31T07:02:09.245604",
     "exception": false,
     "start_time": "2023-07-31T07:02:09.222484",
     "status": "completed"
    },
    "tags": []
   },
   "outputs": [
    {
     "name": "stdout",
     "output_type": "stream",
     "text": [
      "/kaggle/input/nlp-getting-started/sample_submission.csv\n",
      "/kaggle/input/nlp-getting-started/train.csv\n",
      "/kaggle/input/nlp-getting-started/test.csv\n"
     ]
    }
   ],
   "source": [
    "# This Python 3 environment comes with many helpful analytics libraries installed\n",
    "# It is defined by the kaggle/python Docker image: https://github.com/kaggle/docker-python\n",
    "# For example, here's several helpful packages to load\n",
    "\n",
    "import numpy as np # linear algebra\n",
    "import pandas as pd # data processing, CSV file I/O (e.g. pd.read_csv)\n",
    "\n",
    "# Input data files are available in the read-only \"../input/\" directory\n",
    "# For example, running this (by clicking run or pressing Shift+Enter) will list all files under the input directory\n",
    "\n",
    "import os\n",
    "for dirname, _, filenames in os.walk('/kaggle/input'):\n",
    "    for filename in filenames:\n",
    "        print(os.path.join(dirname, filename))\n",
    "\n",
    "# You can write up to 20GB to the current directory (/kaggle/working/) that gets preserved as output when you create a version using \"Save & Run All\" \n",
    "# You can also write temporary files to /kaggle/temp/, but they won't be saved outside of the current session"
   ]
  },
  {
   "cell_type": "code",
   "execution_count": 2,
   "id": "6dc17557",
   "metadata": {
    "execution": {
     "iopub.execute_input": "2023-07-31T07:02:09.253978Z",
     "iopub.status.busy": "2023-07-31T07:02:09.253582Z",
     "iopub.status.idle": "2023-07-31T07:02:09.321627Z",
     "shell.execute_reply": "2023-07-31T07:02:09.320594Z"
    },
    "papermill": {
     "duration": 0.074436,
     "end_time": "2023-07-31T07:02:09.323628",
     "exception": false,
     "start_time": "2023-07-31T07:02:09.249192",
     "status": "completed"
    },
    "tags": []
   },
   "outputs": [
    {
     "data": {
      "text/plain": [
       "(7613, 5)"
      ]
     },
     "execution_count": 2,
     "metadata": {},
     "output_type": "execute_result"
    }
   ],
   "source": [
    "import pandas as pd\n",
    "import numpy as np\n",
    "\n",
    "df_train = pd.read_csv('/kaggle/input/nlp-getting-started/train.csv')\n",
    "df_test = pd.read_csv('/kaggle/input/nlp-getting-started/test.csv')\n",
    "df_train.shape"
   ]
  },
  {
   "cell_type": "code",
   "execution_count": 3,
   "id": "1ad92a13",
   "metadata": {
    "execution": {
     "iopub.execute_input": "2023-07-31T07:02:09.332799Z",
     "iopub.status.busy": "2023-07-31T07:02:09.332187Z",
     "iopub.status.idle": "2023-07-31T07:02:10.657449Z",
     "shell.execute_reply": "2023-07-31T07:02:10.655963Z"
    },
    "papermill": {
     "duration": 1.332809,
     "end_time": "2023-07-31T07:02:10.660196",
     "exception": false,
     "start_time": "2023-07-31T07:02:09.327387",
     "status": "completed"
    },
    "tags": []
   },
   "outputs": [
    {
     "name": "stderr",
     "output_type": "stream",
     "text": [
      "/opt/conda/lib/python3.10/site-packages/scipy/__init__.py:146: UserWarning: A NumPy version >=1.16.5 and <1.23.0 is required for this version of SciPy (detected version 1.23.5\n",
      "  warnings.warn(f\"A NumPy version >={np_minversion} and <{np_maxversion}\"\n"
     ]
    }
   ],
   "source": [
    "import sklearn\n",
    "from sklearn.model_selection import train_test_split\n",
    "\n",
    "x_train, x_test, y_train, y_test = train_test_split(df_train.text,df_train.target, test_size = 0.2)"
   ]
  },
  {
   "cell_type": "code",
   "execution_count": 4,
   "id": "cc75da49",
   "metadata": {
    "execution": {
     "iopub.execute_input": "2023-07-31T07:02:10.669463Z",
     "iopub.status.busy": "2023-07-31T07:02:10.668887Z",
     "iopub.status.idle": "2023-07-31T07:02:10.677730Z",
     "shell.execute_reply": "2023-07-31T07:02:10.676651Z"
    },
    "papermill": {
     "duration": 0.016465,
     "end_time": "2023-07-31T07:02:10.680402",
     "exception": false,
     "start_time": "2023-07-31T07:02:10.663937",
     "status": "completed"
    },
    "tags": []
   },
   "outputs": [
    {
     "data": {
      "text/plain": [
       "1470    @peterjukes But there are good grounds to beli...\n",
       "6382    16yr old PKK suicide bomber who detonated bomb...\n",
       "4161    Sex Workers Say Credit Card Bans On Online Ads...\n",
       "2189    Malaysia confirms plane debris washed up on Re...\n",
       "Name: text, dtype: object"
      ]
     },
     "execution_count": 4,
     "metadata": {},
     "output_type": "execute_result"
    }
   ],
   "source": [
    "x_train[:4]"
   ]
  },
  {
   "cell_type": "code",
   "execution_count": 5,
   "id": "73c7b298",
   "metadata": {
    "execution": {
     "iopub.execute_input": "2023-07-31T07:02:10.690293Z",
     "iopub.status.busy": "2023-07-31T07:02:10.689890Z",
     "iopub.status.idle": "2023-07-31T07:02:10.907511Z",
     "shell.execute_reply": "2023-07-31T07:02:10.906118Z"
    },
    "papermill": {
     "duration": 0.225651,
     "end_time": "2023-07-31T07:02:10.909978",
     "exception": false,
     "start_time": "2023-07-31T07:02:10.684327",
     "status": "completed"
    },
    "tags": []
   },
   "outputs": [],
   "source": [
    "from sklearn.feature_extraction.text import CountVectorizer\n",
    "\n",
    "v = CountVectorizer()\n",
    "\n",
    "x_train_cv = v.fit_transform(x_train.values)\n",
    "x_train_np = x_train_cv.toarray()"
   ]
  },
  {
   "cell_type": "code",
   "execution_count": 6,
   "id": "5207a7b2",
   "metadata": {
    "execution": {
     "iopub.execute_input": "2023-07-31T07:02:10.919109Z",
     "iopub.status.busy": "2023-07-31T07:02:10.918768Z",
     "iopub.status.idle": "2023-07-31T07:02:10.926136Z",
     "shell.execute_reply": "2023-07-31T07:02:10.925018Z"
    },
    "papermill": {
     "duration": 0.014617,
     "end_time": "2023-07-31T07:02:10.928474",
     "exception": false,
     "start_time": "2023-07-31T07:02:10.913857",
     "status": "completed"
    },
    "tags": []
   },
   "outputs": [
    {
     "data": {
      "text/plain": [
       "(array([ 1666,  1846,  2453,  3099,  3121,  3372,  3941,  4272,  7103,\n",
       "         7234,  8332, 10595, 12286, 12447, 12549, 15936, 15998, 16203,\n",
       "        17394]),)"
      ]
     },
     "execution_count": 6,
     "metadata": {},
     "output_type": "execute_result"
    }
   ],
   "source": [
    "np.where(x_train_np[0] != 0)"
   ]
  },
  {
   "cell_type": "code",
   "execution_count": 7,
   "id": "a347e659",
   "metadata": {
    "execution": {
     "iopub.execute_input": "2023-07-31T07:02:10.937868Z",
     "iopub.status.busy": "2023-07-31T07:02:10.937496Z",
     "iopub.status.idle": "2023-07-31T07:02:10.956172Z",
     "shell.execute_reply": "2023-07-31T07:02:10.955412Z"
    },
    "papermill": {
     "duration": 0.026002,
     "end_time": "2023-07-31T07:02:10.958366",
     "exception": false,
     "start_time": "2023-07-31T07:02:10.932364",
     "status": "completed"
    },
    "tags": []
   },
   "outputs": [
    {
     "data": {
      "text/plain": [
       "'blues'"
      ]
     },
     "execution_count": 7,
     "metadata": {},
     "output_type": "execute_result"
    }
   ],
   "source": [
    "v.get_feature_names_out()[2732]"
   ]
  },
  {
   "cell_type": "code",
   "execution_count": 8,
   "id": "68865ed2",
   "metadata": {
    "execution": {
     "iopub.execute_input": "2023-07-31T07:02:10.969360Z",
     "iopub.status.busy": "2023-07-31T07:02:10.968826Z",
     "iopub.status.idle": "2023-07-31T07:02:10.998078Z",
     "shell.execute_reply": "2023-07-31T07:02:10.996668Z"
    },
    "papermill": {
     "duration": 0.036849,
     "end_time": "2023-07-31T07:02:11.000801",
     "exception": false,
     "start_time": "2023-07-31T07:02:10.963952",
     "status": "completed"
    },
    "tags": []
   },
   "outputs": [
    {
     "data": {
      "text/html": [
       "<style>#sk-container-id-1 {color: black;background-color: white;}#sk-container-id-1 pre{padding: 0;}#sk-container-id-1 div.sk-toggleable {background-color: white;}#sk-container-id-1 label.sk-toggleable__label {cursor: pointer;display: block;width: 100%;margin-bottom: 0;padding: 0.3em;box-sizing: border-box;text-align: center;}#sk-container-id-1 label.sk-toggleable__label-arrow:before {content: \"▸\";float: left;margin-right: 0.25em;color: #696969;}#sk-container-id-1 label.sk-toggleable__label-arrow:hover:before {color: black;}#sk-container-id-1 div.sk-estimator:hover label.sk-toggleable__label-arrow:before {color: black;}#sk-container-id-1 div.sk-toggleable__content {max-height: 0;max-width: 0;overflow: hidden;text-align: left;background-color: #f0f8ff;}#sk-container-id-1 div.sk-toggleable__content pre {margin: 0.2em;color: black;border-radius: 0.25em;background-color: #f0f8ff;}#sk-container-id-1 input.sk-toggleable__control:checked~div.sk-toggleable__content {max-height: 200px;max-width: 100%;overflow: auto;}#sk-container-id-1 input.sk-toggleable__control:checked~label.sk-toggleable__label-arrow:before {content: \"▾\";}#sk-container-id-1 div.sk-estimator input.sk-toggleable__control:checked~label.sk-toggleable__label {background-color: #d4ebff;}#sk-container-id-1 div.sk-label input.sk-toggleable__control:checked~label.sk-toggleable__label {background-color: #d4ebff;}#sk-container-id-1 input.sk-hidden--visually {border: 0;clip: rect(1px 1px 1px 1px);clip: rect(1px, 1px, 1px, 1px);height: 1px;margin: -1px;overflow: hidden;padding: 0;position: absolute;width: 1px;}#sk-container-id-1 div.sk-estimator {font-family: monospace;background-color: #f0f8ff;border: 1px dotted black;border-radius: 0.25em;box-sizing: border-box;margin-bottom: 0.5em;}#sk-container-id-1 div.sk-estimator:hover {background-color: #d4ebff;}#sk-container-id-1 div.sk-parallel-item::after {content: \"\";width: 100%;border-bottom: 1px solid gray;flex-grow: 1;}#sk-container-id-1 div.sk-label:hover label.sk-toggleable__label {background-color: #d4ebff;}#sk-container-id-1 div.sk-serial::before {content: \"\";position: absolute;border-left: 1px solid gray;box-sizing: border-box;top: 0;bottom: 0;left: 50%;z-index: 0;}#sk-container-id-1 div.sk-serial {display: flex;flex-direction: column;align-items: center;background-color: white;padding-right: 0.2em;padding-left: 0.2em;position: relative;}#sk-container-id-1 div.sk-item {position: relative;z-index: 1;}#sk-container-id-1 div.sk-parallel {display: flex;align-items: stretch;justify-content: center;background-color: white;position: relative;}#sk-container-id-1 div.sk-item::before, #sk-container-id-1 div.sk-parallel-item::before {content: \"\";position: absolute;border-left: 1px solid gray;box-sizing: border-box;top: 0;bottom: 0;left: 50%;z-index: -1;}#sk-container-id-1 div.sk-parallel-item {display: flex;flex-direction: column;z-index: 1;position: relative;background-color: white;}#sk-container-id-1 div.sk-parallel-item:first-child::after {align-self: flex-end;width: 50%;}#sk-container-id-1 div.sk-parallel-item:last-child::after {align-self: flex-start;width: 50%;}#sk-container-id-1 div.sk-parallel-item:only-child::after {width: 0;}#sk-container-id-1 div.sk-dashed-wrapped {border: 1px dashed gray;margin: 0 0.4em 0.5em 0.4em;box-sizing: border-box;padding-bottom: 0.4em;background-color: white;}#sk-container-id-1 div.sk-label label {font-family: monospace;font-weight: bold;display: inline-block;line-height: 1.2em;}#sk-container-id-1 div.sk-label-container {text-align: center;}#sk-container-id-1 div.sk-container {/* jupyter's `normalize.less` sets `[hidden] { display: none; }` but bootstrap.min.css set `[hidden] { display: none !important; }` so we also need the `!important` here to be able to override the default hidden behavior on the sphinx rendered scikit-learn.org. See: https://github.com/scikit-learn/scikit-learn/issues/21755 */display: inline-block !important;position: relative;}#sk-container-id-1 div.sk-text-repr-fallback {display: none;}</style><div id=\"sk-container-id-1\" class=\"sk-top-container\"><div class=\"sk-text-repr-fallback\"><pre>MultinomialNB()</pre><b>In a Jupyter environment, please rerun this cell to show the HTML representation or trust the notebook. <br />On GitHub, the HTML representation is unable to render, please try loading this page with nbviewer.org.</b></div><div class=\"sk-container\" hidden><div class=\"sk-item\"><div class=\"sk-estimator sk-toggleable\"><input class=\"sk-toggleable__control sk-hidden--visually\" id=\"sk-estimator-id-1\" type=\"checkbox\" checked><label for=\"sk-estimator-id-1\" class=\"sk-toggleable__label sk-toggleable__label-arrow\">MultinomialNB</label><div class=\"sk-toggleable__content\"><pre>MultinomialNB()</pre></div></div></div></div></div>"
      ],
      "text/plain": [
       "MultinomialNB()"
      ]
     },
     "execution_count": 8,
     "metadata": {},
     "output_type": "execute_result"
    }
   ],
   "source": [
    "from sklearn.naive_bayes import MultinomialNB\n",
    "model = MultinomialNB()\n",
    "model.fit(x_train_cv,y_train)"
   ]
  },
  {
   "cell_type": "code",
   "execution_count": 9,
   "id": "29a34c72",
   "metadata": {
    "execution": {
     "iopub.execute_input": "2023-07-31T07:02:11.011293Z",
     "iopub.status.busy": "2023-07-31T07:02:11.010956Z",
     "iopub.status.idle": "2023-07-31T07:02:11.050438Z",
     "shell.execute_reply": "2023-07-31T07:02:11.048769Z"
    },
    "papermill": {
     "duration": 0.047334,
     "end_time": "2023-07-31T07:02:11.052789",
     "exception": false,
     "start_time": "2023-07-31T07:02:11.005455",
     "status": "completed"
    },
    "tags": []
   },
   "outputs": [
    {
     "name": "stdout",
     "output_type": "stream",
     "text": [
      "              precision    recall  f1-score   support\n",
      "\n",
      "           0       0.78      0.87      0.82       855\n",
      "           1       0.80      0.69      0.74       668\n",
      "\n",
      "    accuracy                           0.79      1523\n",
      "   macro avg       0.79      0.78      0.78      1523\n",
      "weighted avg       0.79      0.79      0.79      1523\n",
      "\n"
     ]
    }
   ],
   "source": [
    "x_test_cv = v.transform(x_test)\n",
    "y_pred = model.predict(x_test_cv)\n",
    "from  sklearn.metrics import classification_report\n",
    "print(classification_report(y_test,y_pred))"
   ]
  },
  {
   "cell_type": "code",
   "execution_count": 10,
   "id": "691c2d32",
   "metadata": {
    "execution": {
     "iopub.execute_input": "2023-07-31T07:02:11.064269Z",
     "iopub.status.busy": "2023-07-31T07:02:11.063507Z",
     "iopub.status.idle": "2023-07-31T07:02:11.232483Z",
     "shell.execute_reply": "2023-07-31T07:02:11.230934Z"
    },
    "papermill": {
     "duration": 0.178209,
     "end_time": "2023-07-31T07:02:11.235255",
     "exception": false,
     "start_time": "2023-07-31T07:02:11.057046",
     "status": "completed"
    },
    "tags": []
   },
   "outputs": [
    {
     "name": "stdout",
     "output_type": "stream",
     "text": [
      "              precision    recall  f1-score   support\n",
      "\n",
      "           0       0.78      0.87      0.82       855\n",
      "           1       0.80      0.69      0.74       668\n",
      "\n",
      "    accuracy                           0.79      1523\n",
      "   macro avg       0.79      0.78      0.78      1523\n",
      "weighted avg       0.79      0.79      0.79      1523\n",
      "\n"
     ]
    }
   ],
   "source": [
    "from sklearn.pipeline import Pipeline\n",
    "clf = Pipeline([('vectorizer',CountVectorizer()),('nb',MultinomialNB())])\n",
    "clf.fit(x_train,y_train)\n",
    "print(classification_report(y_test, clf.predict(x_test)))"
   ]
  },
  {
   "cell_type": "code",
   "execution_count": 11,
   "id": "7920c251",
   "metadata": {
    "execution": {
     "iopub.execute_input": "2023-07-31T07:02:11.245390Z",
     "iopub.status.busy": "2023-07-31T07:02:11.245035Z",
     "iopub.status.idle": "2023-07-31T07:02:11.299851Z",
     "shell.execute_reply": "2023-07-31T07:02:11.298785Z"
    },
    "papermill": {
     "duration": 0.062159,
     "end_time": "2023-07-31T07:02:11.301753",
     "exception": false,
     "start_time": "2023-07-31T07:02:11.239594",
     "status": "completed"
    },
    "tags": []
   },
   "outputs": [
    {
     "data": {
      "text/plain": [
       "<3263x18488 sparse matrix of type '<class 'numpy.int64'>'\n",
       "\twith 41058 stored elements in Compressed Sparse Row format>"
      ]
     },
     "execution_count": 11,
     "metadata": {},
     "output_type": "execute_result"
    }
   ],
   "source": [
    "test_text_cv = v.transform(df_test.text)\n",
    "test_text_cv"
   ]
  },
  {
   "cell_type": "code",
   "execution_count": 12,
   "id": "b398f6d7",
   "metadata": {
    "execution": {
     "iopub.execute_input": "2023-07-31T07:02:11.313022Z",
     "iopub.status.busy": "2023-07-31T07:02:11.311584Z",
     "iopub.status.idle": "2023-07-31T07:02:11.332338Z",
     "shell.execute_reply": "2023-07-31T07:02:11.330681Z"
    },
    "papermill": {
     "duration": 0.028867,
     "end_time": "2023-07-31T07:02:11.334928",
     "exception": false,
     "start_time": "2023-07-31T07:02:11.306061",
     "status": "completed"
    },
    "tags": []
   },
   "outputs": [],
   "source": [
    "test_pred = model.predict(test_text_cv)\n",
    "ID = df_test.id\n",
    "target = test_pred\n",
    "Sub = pd.DataFrame(ID, columns = ['id'])\n",
    "Sub['target'] = target\n",
    "Sub.to_csv('Submission.csv', index = False)"
   ]
  },
  {
   "cell_type": "code",
   "execution_count": null,
   "id": "60f0f412",
   "metadata": {
    "papermill": {
     "duration": 0.00393,
     "end_time": "2023-07-31T07:02:11.343251",
     "exception": false,
     "start_time": "2023-07-31T07:02:11.339321",
     "status": "completed"
    },
    "tags": []
   },
   "outputs": [],
   "source": []
  }
 ],
 "metadata": {
  "kernelspec": {
   "display_name": "Python 3",
   "language": "python",
   "name": "python3"
  },
  "language_info": {
   "codemirror_mode": {
    "name": "ipython",
    "version": 3
   },
   "file_extension": ".py",
   "mimetype": "text/x-python",
   "name": "python",
   "nbconvert_exporter": "python",
   "pygments_lexer": "ipython3",
   "version": "3.10.12"
  },
  "papermill": {
   "default_parameters": {},
   "duration": 14.862629,
   "end_time": "2023-07-31T07:02:12.372484",
   "environment_variables": {},
   "exception": null,
   "input_path": "__notebook__.ipynb",
   "output_path": "__notebook__.ipynb",
   "parameters": {},
   "start_time": "2023-07-31T07:01:57.509855",
   "version": "2.4.0"
  }
 },
 "nbformat": 4,
 "nbformat_minor": 5
}
